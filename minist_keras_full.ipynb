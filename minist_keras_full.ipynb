{
 "cells": [
  {
   "cell_type": "markdown",
   "metadata": {},
   "source": [
    "# MNIST - RNA com Keras"
   ]
  },
  {
   "cell_type": "markdown",
   "metadata": {},
   "source": [
    "Rede Neural Artificial com Keras.\n",
    "\n",
    "**MNIST** é um conjunto de dados que contém milhares de imagens manuscritas dos dígitos de 0-9. O desafio nesse dataset é, dada uma imagem qualquer, aplicar o label correspondente (classificar corretamente a imagem). O MNIST é tão estudado e utilizado pela comunidade, que atua como benchmark para comparar diferentes algoritmos de reconhecimento de imagens."
   ]
  },
  {
   "cell_type": "markdown",
   "metadata": {},
   "source": [
    "> Referências: \n",
    "\n",
    "+ https://github.com/keras-team/keras/blob/master/examples/mnist_mlp.py\n",
    "+ https://elitedatascience.com/keras-tutorial-deep-learning-in-python\n",
    "+ https://nextjournal.com/gkoehler/digit-recognition-with-keras\n",
    "+ https://machinelearningmastery.com/tutorial-first-neural-network-python-keras/\n",
    "+ https://machinelearningmastery.com/multi-class-classification-tutorial-keras-deep-learning-library/"
   ]
  },
  {
   "cell_type": "code",
   "execution_count": 150,
   "metadata": {},
   "outputs": [],
   "source": [
    "from __future__ import print_function\n",
    "\n",
    "import keras\n",
    "from keras.datasets import mnist\n",
    "from keras.models import Sequential, load_model\n",
    "from keras.layers import Dense, Dropout, Activation, Flatten #camadas que são usadas em quase todas as redes neurais\n",
    "#from keras.layers import Convolution2D, MaxPool2D #camadas da CNN de Keras. Estas são as camadas convolucionais que nos ajudarão a treinar eficientemente os dados de imagem:\n",
    "from keras.optimizers import RMSprop\n",
    "from keras.callbacks import EarlyStopping, ModelCheckpoint\n",
    "from keras.models import model_from_json\n",
    "\n",
    "#from keras.utils import np_utils #alguns utilitários. Isso nos ajudará a transformar nossos dados mais tarde:\n",
    "\n",
    "batch_size = 128 #Tamanho do lote - quantas amostras usamos para uma atualização dos pesos do modelo.\n",
    "num_classes = 10 #numero de classes para classificar de 0 á 9 digitos\n",
    "epochs = 10 #numeros de epocas \"passadas\" por toda rede - quantas vezes queremos iterar"
   ]
  },
  {
   "cell_type": "code",
   "execution_count": 115,
   "metadata": {},
   "outputs": [
    {
     "name": "stdout",
     "output_type": "stream",
     "text": [
      "60000 train samples\n",
      "10000 test samples\n"
     ]
    }
   ],
   "source": [
    "#split data to train and test\n",
    "(x_train, y_train), (x_test, y_test) = mnist.load_data()\n",
    "\n",
    "x_train = x_train.reshape(60000, 784)\n",
    "x_test = x_test.reshape(10000, 784)\n",
    "\n",
    "#A etapa final de pré-processamento dos dados de entrada é converter nosso tipo de dados em float32 e \n",
    "#normalizar nossos valores de dados para o intervalo [0, 1].\n",
    "x_train = x_train.astype('float32')\n",
    "x_test = x_test.astype('float32')\n",
    "#A normalização dos dados de entrada ajuda a acelerar o treinamento.\n",
    "x_train /=255\n",
    "x_test /=255\n",
    "\n",
    "print(x_train.shape[0], 'train samples')\n",
    "print(x_test.shape[0], 'test samples')"
   ]
  },
  {
   "cell_type": "code",
   "execution_count": 116,
   "metadata": {},
   "outputs": [
    {
     "name": "stdout",
     "output_type": "stream",
     "text": [
      "(60000, 784)\n"
     ]
    }
   ],
   "source": [
    "# dimensões do X_train\n",
    "print(x_train.shape)"
   ]
  },
  {
   "cell_type": "code",
   "execution_count": 117,
   "metadata": {},
   "outputs": [
    {
     "name": "stdout",
     "output_type": "stream",
     "text": [
      "(array([0, 1, 2, 3, 4, 5, 6, 7, 8, 9], dtype=uint8), array([5923, 6742, 5958, 6131, 5842, 5421, 5918, 6265, 5851, 5949], dtype=int64))\n"
     ]
    }
   ],
   "source": [
    "import numpy as np\n",
    "print(np.unique(y_train, return_counts=True))"
   ]
  },
  {
   "cell_type": "code",
   "execution_count": 118,
   "metadata": {},
   "outputs": [],
   "source": [
    "#from matplotlib import pyplot as plt\n",
    "#plt.figure()\n",
    "#plt.imshow(x_train[1])"
   ]
  },
  {
   "cell_type": "code",
   "execution_count": 119,
   "metadata": {},
   "outputs": [
    {
     "name": "stdout",
     "output_type": "stream",
     "text": [
      "(60000,)\n"
     ]
    }
   ],
   "source": [
    "#vamos dar uma olhada na forma dos dados da nossa etiqueta de classe\n",
    "print(y_train.shape)"
   ]
  },
  {
   "cell_type": "code",
   "execution_count": 120,
   "metadata": {},
   "outputs": [
    {
     "name": "stdout",
     "output_type": "stream",
     "text": [
      "[5 0 4 1 9 2 1 3 1 4]\n"
     ]
    }
   ],
   "source": [
    "#Isso pode ser problemático. Devemos ter 10 classes diferentes, uma para cada dígito, mas parece que temos apenas uma matriz unidimensional. \n",
    "#Vamos dar uma olhada nos rótulos das 10 primeiras amostras de treinamento\n",
    "\n",
    "print(y_train[:10])\n",
    "\n",
    "#Um problema. Os dados y_train e y_test não são divididos em 10 rótulos de classe distintos, mas são \n",
    "#representados como uma única matriz com os valores da classe.\n",
    "#Podemos consertar isso facilmente:"
   ]
  },
  {
   "cell_type": "code",
   "execution_count": 121,
   "metadata": {},
   "outputs": [],
   "source": [
    "#convert class vectors to binary class matrices\n",
    "\n",
    "#Converter matrizes de classe unidimensionais em matrizes de classe de 10 dimensões\n",
    "y_train = keras.utils.to_categorical(y_train, num_classes)\n",
    "y_test = keras.utils.to_categorical(y_test, num_classes)"
   ]
  },
  {
   "cell_type": "code",
   "execution_count": 122,
   "metadata": {},
   "outputs": [
    {
     "name": "stdout",
     "output_type": "stream",
     "text": [
      "(60000, 10)\n"
     ]
    }
   ],
   "source": [
    "print(y_train.shape)"
   ]
  },
  {
   "cell_type": "code",
   "execution_count": 123,
   "metadata": {
    "scrolled": true
   },
   "outputs": [
    {
     "name": "stdout",
     "output_type": "stream",
     "text": [
      "[[ 0.  0.  0.  0.  0.  1.  0.  0.  0.  0.]\n",
      " [ 1.  0.  0.  0.  0.  0.  0.  0.  0.  0.]\n",
      " [ 0.  0.  0.  0.  1.  0.  0.  0.  0.  0.]\n",
      " [ 0.  1.  0.  0.  0.  0.  0.  0.  0.  0.]\n",
      " [ 0.  0.  0.  0.  0.  0.  0.  0.  0.  1.]\n",
      " [ 0.  0.  1.  0.  0.  0.  0.  0.  0.  0.]\n",
      " [ 0.  1.  0.  0.  0.  0.  0.  0.  0.  0.]\n",
      " [ 0.  0.  0.  1.  0.  0.  0.  0.  0.  0.]\n",
      " [ 0.  1.  0.  0.  0.  0.  0.  0.  0.  0.]\n",
      " [ 0.  0.  0.  0.  1.  0.  0.  0.  0.  0.]]\n"
     ]
    }
   ],
   "source": [
    "print(y_train[:10])"
   ]
  },
  {
   "cell_type": "markdown",
   "metadata": {},
   "source": [
    "### Definir a arquitetura do modelo.\n",
    "\n",
    "![Image of Building Network](img/building_network.png)"
   ]
  },
  {
   "cell_type": "markdown",
   "metadata": {},
   "source": [
    "784 inputs -> [512 hidden nodes] -> [512 hidden nodes]  -> 10 outputs"
   ]
  },
  {
   "cell_type": "code",
   "execution_count": 124,
   "metadata": {},
   "outputs": [
    {
     "name": "stdout",
     "output_type": "stream",
     "text": [
      "_________________________________________________________________\n",
      "Layer (type)                 Output Shape              Param #   \n",
      "=================================================================\n",
      "dense_13 (Dense)             (None, 512)               401920    \n",
      "_________________________________________________________________\n",
      "dropout_9 (Dropout)          (None, 512)               0         \n",
      "_________________________________________________________________\n",
      "dense_14 (Dense)             (None, 512)               262656    \n",
      "_________________________________________________________________\n",
      "dropout_10 (Dropout)         (None, 512)               0         \n",
      "_________________________________________________________________\n",
      "dense_15 (Dense)             (None, 10)                5130      \n",
      "=================================================================\n",
      "Total params: 669,706\n",
      "Trainable params: 669,706\n",
      "Non-trainable params: 0\n",
      "_________________________________________________________________\n"
     ]
    }
   ],
   "source": [
    "#Modelo da arquitetura\n",
    "#construindo uma pilha linear de camadas com o modelo sequencial\n",
    "model = Sequential()\n",
    "model.add(Dense(512, activation='relu', input_shape=(784,))) \n",
    "\n",
    "#Dropout - adicionamos o abandono como forma de prevenir o overfitting\n",
    "model.add(Dropout(0.2))\n",
    "model.add(Dense(512, activation='relu'))\n",
    "model.add(Dropout(0.2))\n",
    "\n",
    "model.add(Dense(num_classes, activation='softmax')) #camada de saída com 10 neurônios\n",
    "\n",
    "model.summary()"
   ]
  },
  {
   "cell_type": "markdown",
   "metadata": {},
   "source": [
    "**Camada Densa** - 512 neuronios de entrada, com uma função de ativação \"RELU\" a forma como ele vai dar a saída. 784 é o tamanho da imagem em pixels 784 dados de entrada que essa rede vai receber.\n",
    "\n",
    "\n",
    "**Camada Dropout** - Este é um método para regularizar o nosso modelo, a fim de evitar overfitting.\n",
    "Com o dropout é desativado neuronios afim de evitar sobreajuste \"overfiting\" isso ocorre quando o algoritmo decora algum dado ele aprende demais. Referência: https://machinelearningmastery.com/dropout-regularization-deep-learning-models-keras/\n",
    "\n",
    "**Camada de Saída** - Camada de saída com 10 neuronios. Utilizando a função de ativação \"softmax\"."
   ]
  },
  {
   "cell_type": "code",
   "execution_count": 125,
   "metadata": {},
   "outputs": [],
   "source": [
    "filepath = \"weights.best.hdf5\"\n",
    "checkpoint = ModelCheckpoint(filepath, monitor='val_loss', verbose=1, save_best_only=True, mode='min')\n",
    "\n",
    "#check 5 epochs\n",
    "early_stop = EarlyStopping(monitor='val_loss', patience=5, mode='min')\n",
    "\n",
    "callbacks_list = [checkpoint, early_stop]"
   ]
  },
  {
   "cell_type": "markdown",
   "metadata": {},
   "source": [
    "### Compilação do Modelo"
   ]
  },
  {
   "cell_type": "code",
   "execution_count": 126,
   "metadata": {},
   "outputs": [],
   "source": [
    "model.compile(loss='categorical_crossentropy',\n",
    "              optimizer=RMSprop(),\n",
    "              metrics=['accuracy'])"
   ]
  },
  {
   "cell_type": "markdown",
   "metadata": {},
   "source": [
    "Keras tem uma variedade de funções de perda https://keras.io/losses/ e otimizadores https://keras.io/optimizers/ prontos para escolher.\n",
    "\n",
    "**Otimizador RMSProp.**\n",
    "Recomenda-se deixar os parâmetros deste otimizador em seus valores padrão (exceto a taxa de aprendizado, que pode ser ajustada livremente).\n",
    "Este otimizador é geralmente uma boa escolha para redes neurais recorrentes."
   ]
  },
  {
   "cell_type": "markdown",
   "metadata": {},
   "source": [
    "### Treinamento do Modelo"
   ]
  },
  {
   "cell_type": "code",
   "execution_count": 127,
   "metadata": {},
   "outputs": [
    {
     "name": "stdout",
     "output_type": "stream",
     "text": [
      "Train on 60000 samples, validate on 10000 samples\n",
      "Epoch 1/10\n",
      "60000/60000 [==============================] - 12s 199us/step - loss: 0.2455 - acc: 0.9248 - val_loss: 0.0985 - val_acc: 0.9695\n",
      "\n",
      "Epoch 00001: val_loss improved from inf to 0.09852, saving model to weights.best.hdf5\n",
      "Epoch 2/10\n",
      "60000/60000 [==============================] - 13s 214us/step - loss: 0.0996 - acc: 0.9706 - val_loss: 0.0804 - val_acc: 0.9767 - loss: 0.0995\n",
      "\n",
      "Epoch 00002: val_loss improved from 0.09852 to 0.08035, saving model to weights.best.hdf5\n",
      "Epoch 3/10\n",
      "60000/60000 [==============================] - 12s 200us/step - loss: 0.0741 - acc: 0.9782 - val_loss: 0.0808 - val_acc: 0.9758\n",
      "\n",
      "Epoch 00003: val_loss did not improve from 0.08035\n",
      "Epoch 4/10\n",
      "60000/60000 [==============================] - 13s 211us/step - loss: 0.0616 - acc: 0.9817 - val_loss: 0.0686 - val_acc: 0.9800\n",
      "\n",
      "Epoch 00004: val_loss improved from 0.08035 to 0.06857, saving model to weights.best.hdf5\n",
      "Epoch 5/10\n",
      "60000/60000 [==============================] - 13s 221us/step - loss: 0.0512 - acc: 0.9848 - val_loss: 0.0776 - val_acc: 0.9796\n",
      "\n",
      "Epoch 00005: val_loss did not improve from 0.06857\n",
      "Epoch 6/10\n",
      "60000/60000 [==============================] - 13s 213us/step - loss: 0.0433 - acc: 0.9863 - val_loss: 0.0847 - val_acc: 0.9783\n",
      "\n",
      "Epoch 00006: val_loss did not improve from 0.06857\n",
      "Epoch 7/10\n",
      "60000/60000 [==============================] - 14s 232us/step - loss: 0.0384 - acc: 0.9887 - val_loss: 0.0755 - val_acc: 0.9825\n",
      "\n",
      "Epoch 00007: val_loss did not improve from 0.06857\n",
      "Epoch 8/10\n",
      "60000/60000 [==============================] - 13s 214us/step - loss: 0.0351 - acc: 0.9902 - val_loss: 0.0855 - val_acc: 0.9800\n",
      "\n",
      "Epoch 00008: val_loss did not improve from 0.06857\n",
      "Epoch 9/10\n",
      "60000/60000 [==============================] - 13s 217us/step - loss: 0.0287 - acc: 0.9920 - val_loss: 0.0942 - val_acc: 0.9801\n",
      "\n",
      "Epoch 00009: val_loss did not improve from 0.06857\n"
     ]
    }
   ],
   "source": [
    "history = model.fit(x_train, y_train,\n",
    "                    batch_size = batch_size,\n",
    "                    epochs = epochs,\n",
    "                    verbose = 1,\n",
    "                    validation_data=(x_test, y_test), callbacks = callbacks_list\n",
    "                   )"
   ]
  },
  {
   "cell_type": "code",
   "execution_count": 147,
   "metadata": {},
   "outputs": [
    {
     "data": {
      "image/png": "[encoded data removed]",
      "text/plain": [
       "<Figure size 432x288 with 2 Axes>"
      ]
     },
     "metadata": {},
     "output_type": "display_data"
    }
   ],
   "source": [
    "from matplotlib import pyplot as plt\n",
    "\n",
    "# plotting the metrics\n",
    "fig = plt.figure()\n",
    "plt.subplot(2,1,1)\n",
    "plt.plot(history.history['acc'])\n",
    "plt.plot(history.history['val_acc'])\n",
    "plt.title('model accuracy')\n",
    "plt.ylabel('accuracy')\n",
    "plt.xlabel('epoch')\n",
    "plt.legend(['train', 'test'], loc='lower right')\n",
    "\n",
    "plt.subplot(2,1,2)\n",
    "plt.plot(history.history['loss'])\n",
    "plt.plot(history.history['val_loss'])\n",
    "plt.title('model loss')\n",
    "plt.ylabel('loss')\n",
    "plt.xlabel('epoch')\n",
    "plt.legend(['train', 'test'], loc='upper right')\n",
    "\n",
    "plt.tight_layout()"
   ]
  },
  {
   "cell_type": "markdown",
   "metadata": {},
   "source": [
    "Essa curva de aprendizado parece muito boa! Vemos que a perda no **conjunto de treinamento** está diminuindo rapidamente nas duas primeiras épocas. Isso mostra que a rede está aprendendo a classificar os dígitos rapidamente. Para o **conjunto de testes**, a perda não diminui tão rapidamente, mas permanece aproximadamente dentro da mesma faixa da perda de treinamento. Isso significa que nosso **modelo é generalizado para dados não vistos**."
   ]
  },
  {
   "cell_type": "markdown",
   "metadata": {},
   "source": [
    "### Salvar o Modelo"
   ]
  },
  {
   "cell_type": "code",
   "execution_count": 128,
   "metadata": {},
   "outputs": [
    {
     "name": "stdout",
     "output_type": "stream",
     "text": [
      "Saved trained model at results/keras_mnist.h5 \n"
     ]
    }
   ],
   "source": [
    "import os\n",
    "\n",
    "save_dir = \"results/\"\n",
    "model_name = 'keras_mnist.h5'\n",
    "model_path = os.path.join(save_dir, model_name)\n",
    "model.save(model_path)\n",
    "print('Saved trained model at %s ' % model_path)"
   ]
  },
  {
   "cell_type": "markdown",
   "metadata": {},
   "source": [
    "### Avaliação do desempenho Modelo\n",
    "\n",
    "É hora de colher os frutos do nosso treinamento em redes neurais. Vamos ver o desempenho do modelo no conjunto de testes. O método **model.evaluate()** calcula a perda e qualquer métrica definida ao compilar o modelo. Portanto, no nosso caso, a precisão é calculada nos **10.000 exemplos de testes** usando os pesos de rede fornecidos pelo modelo salvo."
   ]
  },
  {
   "cell_type": "code",
   "execution_count": 148,
   "metadata": {},
   "outputs": [
    {
     "name": "stdout",
     "output_type": "stream",
     "text": [
      "Test loss: 0.0942142756066\n",
      "Test accuracy:  0.9801\n"
     ]
    }
   ],
   "source": [
    "#score\n",
    "score = model.evaluate(x_test, y_test, verbose=0)\n",
    "\n",
    "print('Test loss:', score[0]) #retorna a último valor de perda\n",
    "print('Test accuracy: ', score[1]) #retorna a última acurácia"
   ]
  },
  {
   "cell_type": "code",
   "execution_count": 152,
   "metadata": {},
   "outputs": [
    {
     "name": "stdout",
     "output_type": "stream",
     "text": [
      "Test loss: 0.0942142756066\n",
      "Test accuracy:  0.9801\n"
     ]
    }
   ],
   "source": [
    "#com modelo salvo\n",
    "mnist_model = load_model('results/keras_mnist.h5')\n",
    "loss_and_metrics = model.evaluate(x_test, y_test, verbose=0)\n",
    "\n",
    "print('Test loss:', loss_and_metrics[0]) #retorna a último valor de perda\n",
    "print('Test accuracy: ', loss_and_metrics[1]) #retorna a última acurácia"
   ]
  },
  {
   "cell_type": "code",
   "execution_count": 130,
   "metadata": {},
   "outputs": [
    {
     "data": {
      "text/plain": [
       "dict_keys(['val_loss', 'val_acc', 'loss', 'acc'])"
      ]
     },
     "execution_count": 130,
     "metadata": {},
     "output_type": "execute_result"
    }
   ],
   "source": [
    "history.history.keys()"
   ]
  },
  {
   "cell_type": "code",
   "execution_count": 162,
   "metadata": {},
   "outputs": [],
   "source": [
    "# carrega o modelo e cria previsões no conjunto de testes\n",
    "mnist_model = load_model('results/keras_mnist.h5')\n",
    "predicted_classes = mnist_model.predict_classes(x_test)"
   ]
  },
  {
   "cell_type": "code",
   "execution_count": 163,
   "metadata": {},
   "outputs": [
    {
     "name": "stdout",
     "output_type": "stream",
     "text": [
      "\n",
      "0  classified correctly\n",
      "1  classified incorrectly\n"
     ]
    },
    {
     "name": "stderr",
     "output_type": "stream",
     "text": [
      "C:\\Users\\r.tavares.da.silva\\AppData\\Local\\Continuum\\anaconda3\\lib\\site-packages\\ipykernel_launcher.py:3: DeprecationWarning: elementwise == comparison failed; this will raise an error in the future.\n",
      "  This is separate from the ipykernel package so we can avoid doing imports until\n",
      "C:\\Users\\r.tavares.da.silva\\AppData\\Local\\Continuum\\anaconda3\\lib\\site-packages\\ipykernel_launcher.py:4: DeprecationWarning: elementwise != comparison failed; this will raise an error in the future.\n",
      "  after removing the cwd from sys.path.\n"
     ]
    }
   ],
   "source": [
    "#ver o que previmos corretamente e quais não\n",
    "correct_indices = np.nonzero(predicted_classes == y_test)[0]\n",
    "incorrect_indices = np.nonzero(predicted_classes != y_test)[0]\n",
    "print()\n",
    "print(len(correct_indices),\" classified correctly\")\n",
    "print(len(incorrect_indices),\" classified incorrectly\")"
   ]
  },
  {
   "cell_type": "code",
   "execution_count": null,
   "metadata": {},
   "outputs": [],
   "source": []
  }
 ],
 "metadata": {
  "kernelspec": {
   "display_name": "Python 3",
   "language": "python",
   "name": "python3"
  },
  "language_info": {
   "codemirror_mode": {
    "name": "ipython",
    "version": 3
   },
   "file_extension": ".py",
   "mimetype": "text/x-python",
   "name": "python",
   "nbconvert_exporter": "python",
   "pygments_lexer": "ipython3",
   "version": "3.6.5"
  }
 },
 "nbformat": 4,
 "nbformat_minor": 2
}
